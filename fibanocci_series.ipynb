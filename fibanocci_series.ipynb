{
  "nbformat": 4,
  "nbformat_minor": 0,
  "metadata": {
    "colab": {
      "provenance": []
    },
    "kernelspec": {
      "name": "python3",
      "display_name": "Python 3"
    },
    "language_info": {
      "name": "python"
    }
  },
  "cells": [
    {
      "cell_type": "code",
      "execution_count": 1,
      "metadata": {
        "id": "I1MP7gZWo9eM"
      },
      "outputs": [],
      "source": [
        "def fibanocciSeries(num):\n",
        "  fibo=[0,1]\n",
        "  for i in range(2,num):\n",
        "    term=fibo[-1]+fibo[-2]\n",
        "    fibo.append(term)\n",
        "  return fibo"
      ]
    },
    {
      "cell_type": "code",
      "source": [
        "print(\"FIBONACCI SERIES GENERATOR\")\n",
        "ch=int(input(\"1.Generate series\\n2.End Series\\nEnter your choice:\"))\n",
        "while(ch!=2):\n",
        "  num=int(input(\"\\nEnter number of terms to be generated:\"))\n",
        "  f=fibanocciSeries(num)\n",
        "  print(f)\n",
        "  print()\n",
        "  ch=int(input(\"1.Generate series\\n2.End Series\\nEnter your choice:\"))"
      ],
      "metadata": {
        "colab": {
          "base_uri": "https://localhost:8080/"
        },
        "id": "SuH2jjt3I3xl",
        "outputId": "f8f261c7-bf02-455b-e4dd-4c81698867c8"
      },
      "execution_count": 2,
      "outputs": [
        {
          "name": "stdout",
          "output_type": "stream",
          "text": [
            "FIBONACCI SERIES GENERATOR\n",
            "1.Generate series\n",
            "2.End Series\n",
            "Enter your choice:1\n",
            "\n",
            "Enter number of terms to be generated:5\n",
            "[0, 1, 1, 2, 3]\n",
            "\n",
            "1.Generate series\n",
            "2.End Series\n",
            "Enter your choice:2\n"
          ]
        }
      ]
    }
  ]
}